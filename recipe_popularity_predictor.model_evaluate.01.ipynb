{
    "cells": [
        {
            "cell_type": "code",
            "execution_count": 1,
            "metadata": {},
            "outputs": [],
            "source": "# The code was removed by Watson Studio for sharing."
        },
        {
            "cell_type": "code",
            "execution_count": 2,
            "metadata": {},
            "outputs": [],
            "source": "import pandas as pd\nimport numpy as np\nimport pickle\n\nfrom sklearn.metrics import roc_auc_score, average_precision_score, roc_curve, recall_score, precision_score"
        },
        {
            "cell_type": "code",
            "execution_count": 3,
            "metadata": {},
            "outputs": [],
            "source": "df_test = pd.read_csv(project.get_file('features_test.csv'),index_col=0)\n\nscaler, LR_clfr, thresh = pickle.load(project.get_file('scaler_and_LR_clfr_and_thresh.pkl'))"
        },
        {
            "cell_type": "code",
            "execution_count": 4,
            "metadata": {},
            "outputs": [
                {
                    "name": "stdout",
                    "output_type": "stream",
                    "text": "The test set contains 228553 recipes.\nThe number of recipes which will achieve the popularity threshold by the target time is 123.\nSo we are trying to predict an outcome achieved by 0.05381683898264297% of recipes.\n"
                }
            ],
            "source": "num_recipes = len(df_test)\nnum_target = len(df_test[df_test['target'] == 1].index)\n\nprint('The test set contains ' + str(num_recipes) + ' recipes.')\nprint('The number of recipes which will achieve the popularity threshold by the target time is ' + str(num_target) + '.')\nprint('So we are trying to predict an outcome achieved by ' + str(100 * num_target / num_recipes) + '% of recipes.')"
        },
        {
            "cell_type": "code",
            "execution_count": 5,
            "metadata": {},
            "outputs": [
                {
                    "name": "stdout",
                    "output_type": "stream",
                    "text": "Model Scores.\nArea under the ROC curve: 0.9990094633249444\nAverage precision score: 0.35527220179913804\nRecall score: 0.2764227642276423\nPrecision score: 0.5074626865671642\n"
                }
            ],
            "source": "X_test = df_test.drop(columns='target')\ny_test = df_test['target']\n\nX_test_scaled = scaler.transform(X_test)\n\npredictions = LR_clfr.predict_proba(X_test_scaled)[:,1]\n\nprint('Model Scores.')\nprint('Area under the ROC curve: ' + str(roc_auc_score(y_test,predictions)))\nprint('Average precision score: ' + str(average_precision_score(y_test,predictions)))\nprint('Recall score: ' + str(recall_score(y_test,(predictions >= thresh))))\nprint('Precision score: ' + str(precision_score(y_test,(predictions >= thresh))))"
        },
        {
            "cell_type": "code",
            "execution_count": 6,
            "metadata": {},
            "outputs": [
                {
                    "data": {
                        "text/html": "<div>\n<style scoped>\n    .dataframe tbody tr th:only-of-type {\n        vertical-align: middle;\n    }\n\n    .dataframe tbody tr th {\n        vertical-align: top;\n    }\n\n    .dataframe thead th {\n        text-align: right;\n    }\n</style>\n<table border=\"1\" class=\"dataframe\">\n  <thead>\n    <tr style=\"text-align: right;\">\n      <th></th>\n      <th>target</th>\n      <th>predicted_proba</th>\n      <th>prediction</th>\n    </tr>\n    <tr>\n      <th>recipe_id</th>\n      <th></th>\n      <th></th>\n      <th></th>\n    </tr>\n  </thead>\n  <tbody>\n    <tr>\n      <th>517863</th>\n      <td>0</td>\n      <td>0.188389</td>\n      <td>True</td>\n    </tr>\n    <tr>\n      <th>203785</th>\n      <td>1</td>\n      <td>0.156987</td>\n      <td>True</td>\n    </tr>\n    <tr>\n      <th>63746</th>\n      <td>0</td>\n      <td>0.142931</td>\n      <td>True</td>\n    </tr>\n    <tr>\n      <th>160202</th>\n      <td>1</td>\n      <td>0.142042</td>\n      <td>True</td>\n    </tr>\n    <tr>\n      <th>190605</th>\n      <td>1</td>\n      <td>0.139543</td>\n      <td>True</td>\n    </tr>\n    <tr>\n      <th>475446</th>\n      <td>0</td>\n      <td>0.139003</td>\n      <td>True</td>\n    </tr>\n    <tr>\n      <th>361631</th>\n      <td>1</td>\n      <td>0.136124</td>\n      <td>True</td>\n    </tr>\n    <tr>\n      <th>63073</th>\n      <td>0</td>\n      <td>0.134314</td>\n      <td>True</td>\n    </tr>\n    <tr>\n      <th>125120</th>\n      <td>0</td>\n      <td>0.133691</td>\n      <td>True</td>\n    </tr>\n    <tr>\n      <th>324890</th>\n      <td>0</td>\n      <td>0.132669</td>\n      <td>True</td>\n    </tr>\n    <tr>\n      <th>146944</th>\n      <td>1</td>\n      <td>0.132611</td>\n      <td>True</td>\n    </tr>\n    <tr>\n      <th>278221</th>\n      <td>0</td>\n      <td>0.132338</td>\n      <td>True</td>\n    </tr>\n    <tr>\n      <th>97085</th>\n      <td>0</td>\n      <td>0.130867</td>\n      <td>True</td>\n    </tr>\n    <tr>\n      <th>249520</th>\n      <td>1</td>\n      <td>0.130458</td>\n      <td>True</td>\n    </tr>\n    <tr>\n      <th>126982</th>\n      <td>0</td>\n      <td>0.129980</td>\n      <td>True</td>\n    </tr>\n    <tr>\n      <th>105357</th>\n      <td>1</td>\n      <td>0.126719</td>\n      <td>True</td>\n    </tr>\n    <tr>\n      <th>94993</th>\n      <td>0</td>\n      <td>0.123680</td>\n      <td>True</td>\n    </tr>\n    <tr>\n      <th>495124</th>\n      <td>0</td>\n      <td>0.123412</td>\n      <td>True</td>\n    </tr>\n    <tr>\n      <th>93256</th>\n      <td>1</td>\n      <td>0.122577</td>\n      <td>True</td>\n    </tr>\n    <tr>\n      <th>52558</th>\n      <td>1</td>\n      <td>0.122392</td>\n      <td>True</td>\n    </tr>\n    <tr>\n      <th>137037</th>\n      <td>1</td>\n      <td>0.122390</td>\n      <td>True</td>\n    </tr>\n    <tr>\n      <th>123522</th>\n      <td>0</td>\n      <td>0.122347</td>\n      <td>True</td>\n    </tr>\n    <tr>\n      <th>76913</th>\n      <td>0</td>\n      <td>0.122303</td>\n      <td>True</td>\n    </tr>\n    <tr>\n      <th>234919</th>\n      <td>0</td>\n      <td>0.121722</td>\n      <td>True</td>\n    </tr>\n    <tr>\n      <th>345502</th>\n      <td>1</td>\n      <td>0.120590</td>\n      <td>True</td>\n    </tr>\n    <tr>\n      <th>241796</th>\n      <td>1</td>\n      <td>0.120404</td>\n      <td>True</td>\n    </tr>\n    <tr>\n      <th>99966</th>\n      <td>1</td>\n      <td>0.120220</td>\n      <td>True</td>\n    </tr>\n    <tr>\n      <th>15038</th>\n      <td>1</td>\n      <td>0.119961</td>\n      <td>True</td>\n    </tr>\n    <tr>\n      <th>170190</th>\n      <td>0</td>\n      <td>0.119802</td>\n      <td>True</td>\n    </tr>\n    <tr>\n      <th>173691</th>\n      <td>0</td>\n      <td>0.118182</td>\n      <td>True</td>\n    </tr>\n  </tbody>\n</table>\n</div>",
                        "text/plain": "           target  predicted_proba  prediction\nrecipe_id                                     \n517863          0         0.188389        True\n203785          1         0.156987        True\n63746           0         0.142931        True\n160202          1         0.142042        True\n190605          1         0.139543        True\n475446          0         0.139003        True\n361631          1         0.136124        True\n63073           0         0.134314        True\n125120          0         0.133691        True\n324890          0         0.132669        True\n146944          1         0.132611        True\n278221          0         0.132338        True\n97085           0         0.130867        True\n249520          1         0.130458        True\n126982          0         0.129980        True\n105357          1         0.126719        True\n94993           0         0.123680        True\n495124          0         0.123412        True\n93256           1         0.122577        True\n52558           1         0.122392        True\n137037          1         0.122390        True\n123522          0         0.122347        True\n76913           0         0.122303        True\n234919          0         0.121722        True\n345502          1         0.120590        True\n241796          1         0.120404        True\n99966           1         0.120220        True\n15038           1         0.119961        True\n170190          0         0.119802        True\n173691          0         0.118182        True"
                    },
                    "execution_count": 6,
                    "metadata": {},
                    "output_type": "execute_result"
                }
            ],
            "source": "df_test_predictions = y_test.to_frame()\ndf_test_predictions['predicted_proba'] = predictions\ndf_test_predictions['prediction'] = (predictions >= thresh)\n\ndf_test_predictions.sort_values('predicted_proba', ascending=False)[:30]"
        },
        {
            "cell_type": "code",
            "execution_count": 7,
            "metadata": {},
            "outputs": [
                {
                    "name": "stdout",
                    "output_type": "stream",
                    "text": "Looking at 228553 recipes, our model predicts that 67 will achieve the popularity threshold by the target time.\n\nOf these predictions, 34 of them are correct.\n\nThe model fails to predict 89 recipes which do achieve the threshold.\n"
                }
            ],
            "source": "num_predictions = len(df_test_predictions[df_test_predictions['prediction'] == True])\nnum_correct_predictions = len(df_test_predictions[(df_test_predictions['prediction'] == True) & (df_test_predictions['target'] == 1)])\n\nprint('Looking at ' + str(num_recipes) + ' recipes, our model predicts that ' + str(num_predictions) + ' will achieve the popularity threshold by the target time.')\nprint()\nprint('Of these predictions, ' + str(num_correct_predictions) + ' of them are correct.')\nprint()\nprint('The model fails to predict ' + str(num_target - num_correct_predictions) + ' recipes which do achieve the threshold.')"
        },
        {
            "cell_type": "code",
            "execution_count": 19,
            "metadata": {},
            "outputs": [
                {
                    "data": {
                        "text/html": "<div>\n<style scoped>\n    .dataframe tbody tr th:only-of-type {\n        vertical-align: middle;\n    }\n\n    .dataframe tbody tr th {\n        vertical-align: top;\n    }\n\n    .dataframe thead th {\n        text-align: right;\n    }\n</style>\n<table border=\"1\" class=\"dataframe\">\n  <thead>\n    <tr style=\"text-align: right;\">\n      <th></th>\n      <th>Weight</th>\n    </tr>\n    <tr>\n      <th>Feature</th>\n      <th></th>\n    </tr>\n  </thead>\n  <tbody>\n    <tr>\n      <th>total_ratings_curr</th>\n      <td>9.045011</td>\n    </tr>\n    <tr>\n      <th>age_in_days</th>\n      <td>-1.189304</td>\n    </tr>\n    <tr>\n      <th>rating_pace</th>\n      <td>0.284021</td>\n    </tr>\n    <tr>\n      <th>RUSNB_proba_pred</th>\n      <td>0.577928</td>\n    </tr>\n    <tr>\n      <th>mean_rating_curr</th>\n      <td>-0.989466</td>\n    </tr>\n    <tr>\n      <th>minutes</th>\n      <td>-0.000419</td>\n    </tr>\n    <tr>\n      <th>n_steps</th>\n      <td>0.603184</td>\n    </tr>\n    <tr>\n      <th>n_ingredients</th>\n      <td>0.343740</td>\n    </tr>\n    <tr>\n      <th>calories</th>\n      <td>0.002737</td>\n    </tr>\n    <tr>\n      <th>LIX_score</th>\n      <td>-0.351900</td>\n    </tr>\n    <tr>\n      <th>innovation_IDF</th>\n      <td>0.924896</td>\n    </tr>\n    <tr>\n      <th>innovation_jaccard</th>\n      <td>0.194669</td>\n    </tr>\n    <tr>\n      <th>innovation_jaccard_avg</th>\n      <td>0.917794</td>\n    </tr>\n  </tbody>\n</table>\n</div>",
                        "text/plain": "                          Weight\nFeature                         \ntotal_ratings_curr      9.045011\nage_in_days            -1.189304\nrating_pace             0.284021\nRUSNB_proba_pred        0.577928\nmean_rating_curr       -0.989466\nminutes                -0.000419\nn_steps                 0.603184\nn_ingredients           0.343740\ncalories                0.002737\nLIX_score              -0.351900\ninnovation_IDF          0.924896\ninnovation_jaccard      0.194669\ninnovation_jaccard_avg  0.917794"
                    },
                    "execution_count": 19,
                    "metadata": {},
                    "output_type": "execute_result"
                }
            ],
            "source": "feature_weights = pd.DataFrame(LR_clfr.coef_[0],index=df_test.columns[1:]).rename(columns={0:'Weight'})\nfeature_weights.index.names = ['Feature']\n\nfeature_weights"
        },
        {
            "cell_type": "code",
            "execution_count": 27,
            "metadata": {},
            "outputs": [
                {
                    "data": {
                        "text/html": "<div>\n<style scoped>\n    .dataframe tbody tr th:only-of-type {\n        vertical-align: middle;\n    }\n\n    .dataframe tbody tr th {\n        vertical-align: top;\n    }\n\n    .dataframe thead th {\n        text-align: right;\n    }\n</style>\n<table border=\"1\" class=\"dataframe\">\n  <thead>\n    <tr style=\"text-align: right;\">\n      <th></th>\n      <th>Weight</th>\n      <th>Absolute_Weight</th>\n    </tr>\n    <tr>\n      <th>Feature</th>\n      <th></th>\n      <th></th>\n    </tr>\n  </thead>\n  <tbody>\n    <tr>\n      <th>total_ratings_curr</th>\n      <td>9.045011</td>\n      <td>9.045011</td>\n    </tr>\n    <tr>\n      <th>age_in_days</th>\n      <td>-1.189304</td>\n      <td>1.189304</td>\n    </tr>\n    <tr>\n      <th>mean_rating_curr</th>\n      <td>-0.989466</td>\n      <td>0.989466</td>\n    </tr>\n    <tr>\n      <th>innovation_IDF</th>\n      <td>0.924896</td>\n      <td>0.924896</td>\n    </tr>\n    <tr>\n      <th>innovation_jaccard_avg</th>\n      <td>0.917794</td>\n      <td>0.917794</td>\n    </tr>\n    <tr>\n      <th>n_steps</th>\n      <td>0.603184</td>\n      <td>0.603184</td>\n    </tr>\n    <tr>\n      <th>RUSNB_proba_pred</th>\n      <td>0.577928</td>\n      <td>0.577928</td>\n    </tr>\n    <tr>\n      <th>LIX_score</th>\n      <td>-0.351900</td>\n      <td>0.351900</td>\n    </tr>\n    <tr>\n      <th>n_ingredients</th>\n      <td>0.343740</td>\n      <td>0.343740</td>\n    </tr>\n    <tr>\n      <th>rating_pace</th>\n      <td>0.284021</td>\n      <td>0.284021</td>\n    </tr>\n    <tr>\n      <th>innovation_jaccard</th>\n      <td>0.194669</td>\n      <td>0.194669</td>\n    </tr>\n    <tr>\n      <th>calories</th>\n      <td>0.002737</td>\n      <td>0.002737</td>\n    </tr>\n    <tr>\n      <th>minutes</th>\n      <td>-0.000419</td>\n      <td>0.000419</td>\n    </tr>\n  </tbody>\n</table>\n</div>",
                        "text/plain": "                          Weight  Absolute_Weight\nFeature                                          \ntotal_ratings_curr      9.045011         9.045011\nage_in_days            -1.189304         1.189304\nmean_rating_curr       -0.989466         0.989466\ninnovation_IDF          0.924896         0.924896\ninnovation_jaccard_avg  0.917794         0.917794\nn_steps                 0.603184         0.603184\nRUSNB_proba_pred        0.577928         0.577928\nLIX_score              -0.351900         0.351900\nn_ingredients           0.343740         0.343740\nrating_pace             0.284021         0.284021\ninnovation_jaccard      0.194669         0.194669\ncalories                0.002737         0.002737\nminutes                -0.000419         0.000419"
                    },
                    "execution_count": 27,
                    "metadata": {},
                    "output_type": "execute_result"
                }
            ],
            "source": "feature_weights['Absolute_Weight'] = feature_weights['Weight'].apply(np.abs)\nfeature_weights.sort_values(by='Absolute_Weight',ascending=False)"
        },
        {
            "cell_type": "code",
            "execution_count": null,
            "metadata": {},
            "outputs": [],
            "source": ""
        }
    ],
    "metadata": {
        "kernelspec": {
            "display_name": "Python 3.7",
            "language": "python",
            "name": "python3"
        },
        "language_info": {
            "codemirror_mode": {
                "name": "ipython",
                "version": 3
            },
            "file_extension": ".py",
            "mimetype": "text/x-python",
            "name": "python",
            "nbconvert_exporter": "python",
            "pygments_lexer": "ipython3",
            "version": "3.7.9"
        }
    },
    "nbformat": 4,
    "nbformat_minor": 1
}